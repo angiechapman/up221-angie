{
 "cells": [
  {
   "cell_type": "markdown",
   "id": "5f8ee35e-8743-4822-ba9a-6d07deb8dc36",
   "metadata": {},
   "source": [
    "# Week 2 Assignment\n",
    "## Data Exploration\n",
    "My name is Angie (Evangeline Chapman) and I'm exploring data.\n",
    "## Due January 21st\n",
    "The purpose of this assignment is to explore a data set. I'm interested in exploring this data set on affordable housing in LA because I'm passionate about providing affordable housing to low-income families and individuals."
   ]
  },
  {
   "cell_type": "code",
   "execution_count": 1,
   "id": "e639b42b-77fe-4798-8675-3a4e6b469678",
   "metadata": {},
   "outputs": [],
   "source": [
    "#importing python libraries\n",
    "import pandas as pd\n",
    "import geopandas as gpd"
   ]
  },
  {
   "cell_type": "code",
   "execution_count": 9,
   "id": "b7927c55-fb12-441d-816a-d4cfb0b470ec",
   "metadata": {},
   "outputs": [],
   "source": [
    "# read and add shapefile to notebook\n",
    "LA_affordable_housing = pd.read_csv ('LAHD_Affordable_Housing_Projects_List__2003_to_Present__20240114.csv')"
   ]
  },
  {
   "cell_type": "code",
   "execution_count": 8,
   "id": "a6437e09-252f-44fc-a1cf-0ea578f16fe0",
   "metadata": {},
   "outputs": [
    {
     "ename": "NameError",
     "evalue": "name 'head' is not defined",
     "output_type": "error",
     "traceback": [
      "\u001b[0;31m---------------------------------------------------------------------------\u001b[0m",
      "\u001b[0;31mNameError\u001b[0m                                 Traceback (most recent call last)",
      "Cell \u001b[0;32mIn[8], line 2\u001b[0m\n\u001b[1;32m      1\u001b[0m \u001b[38;5;66;03m#view\u001b[39;00m\n\u001b[0;32m----> 2\u001b[0m \u001b[43mhead\u001b[49m(LAHD_affordable_housing)\n",
      "\u001b[0;31mNameError\u001b[0m: name 'head' is not defined"
     ]
    }
   ],
   "source": [
    "#shape\n",
    "#info\n",
    "#head()\n",
    "#plot()\n",
    "#value_counts()\n",
    "#run a query on the data that filters it in some way"
   ]
  },
  {
   "cell_type": "code",
   "execution_count": 10,
   "id": "3e117f00-75db-4ef4-ab71-d82b66a77c00",
   "metadata": {},
   "outputs": [
    {
     "data": {
      "text/plain": [
       "pandas.core.frame.DataFrame"
      ]
     },
     "execution_count": 10,
     "metadata": {},
     "output_type": "execute_result"
    }
   ],
   "source": [
    "# what's the data type?\n",
    "type(LA_affordable_housing)"
   ]
  },
  {
   "cell_type": "code",
   "execution_count": 11,
   "id": "046ce843-6736-42b1-9ee5-2420e67031e8",
   "metadata": {},
   "outputs": [
    {
     "data": {
      "text/html": [
       "<div>\n",
       "<style scoped>\n",
       "    .dataframe tbody tr th:only-of-type {\n",
       "        vertical-align: middle;\n",
       "    }\n",
       "\n",
       "    .dataframe tbody tr th {\n",
       "        vertical-align: top;\n",
       "    }\n",
       "\n",
       "    .dataframe thead th {\n",
       "        text-align: right;\n",
       "    }\n",
       "</style>\n",
       "<table border=\"1\" class=\"dataframe\">\n",
       "  <thead>\n",
       "    <tr style=\"text-align: right;\">\n",
       "      <th></th>\n",
       "      <th>APN</th>\n",
       "      <th>PROJECT NUMBER</th>\n",
       "      <th>NAME</th>\n",
       "      <th>DEVELOPMENT STAGE</th>\n",
       "      <th>CONSTRUCTION TYPE</th>\n",
       "      <th>SITE ADDRESS</th>\n",
       "      <th>SITE  COUNCIL DISTRICT</th>\n",
       "      <th>SITE #</th>\n",
       "      <th>SITE COMMUNITY</th>\n",
       "      <th>SITE UNITS</th>\n",
       "      <th>...</th>\n",
       "      <th>MANAGEMENT COMPANY</th>\n",
       "      <th>CONTACT PHONE</th>\n",
       "      <th>PHOTO</th>\n",
       "      <th>JOBS</th>\n",
       "      <th>PROJECT SUMMARY URL</th>\n",
       "      <th>CONTRACT NUMBERS</th>\n",
       "      <th>DATE STAMP</th>\n",
       "      <th>SITE LONGITUDE</th>\n",
       "      <th>SITE LATITUDE</th>\n",
       "      <th>GPS_COORDS ON MAP</th>\n",
       "    </tr>\n",
       "  </thead>\n",
       "  <tbody>\n",
       "    <tr>\n",
       "      <th>0</th>\n",
       "      <td>5143020023</td>\n",
       "      <td>02-118256</td>\n",
       "      <td>SAN LUCAS APARTMENTS</td>\n",
       "      <td>In-Service</td>\n",
       "      <td>NEW CONSTRUCTION</td>\n",
       "      <td>1221 W 7TH ST  Los Angeles, CA 90017</td>\n",
       "      <td>1</td>\n",
       "      <td>1</td>\n",
       "      <td>WESTLAKE</td>\n",
       "      <td>196</td>\n",
       "      <td>...</td>\n",
       "      <td>GSL PROPERRTY MANAGEMENT</td>\n",
       "      <td>NaN</td>\n",
       "      <td>click here (http://hcidapp.lacity.org/mpphotos...</td>\n",
       "      <td>NaN</td>\n",
       "      <td>click here (http://hcidapp.lacity.org/ahtfRepo...</td>\n",
       "      <td>NaN</td>\n",
       "      <td>2023-12-11T00:00:00.000</td>\n",
       "      <td>-118.26681</td>\n",
       "      <td>34.05209</td>\n",
       "      <td>POINT (-118.26681 34.05209)</td>\n",
       "    </tr>\n",
       "    <tr>\n",
       "      <th>1</th>\n",
       "      <td>5502031011</td>\n",
       "      <td>14-121509</td>\n",
       "      <td>WILSHIRE TOWERS</td>\n",
       "      <td>In-Service</td>\n",
       "      <td>ACQUISITION + REHAB</td>\n",
       "      <td>616 S NORMANDIE AVE  Los Angeles, CA 90005</td>\n",
       "      <td>10</td>\n",
       "      <td>1</td>\n",
       "      <td>KOREATOWN</td>\n",
       "      <td>283</td>\n",
       "      <td>...</td>\n",
       "      <td>THOMAS SAFRAN &amp; ASSOCIATES</td>\n",
       "      <td>(310) 820-4888</td>\n",
       "      <td>click here (http://hcidapp.lacity.org/mpphotos...</td>\n",
       "      <td>NaN</td>\n",
       "      <td>click here (http://hcidapp.lacity.org/ahtfRepo...</td>\n",
       "      <td>NaN</td>\n",
       "      <td>2023-12-11T00:00:00.000</td>\n",
       "      <td>-118.30016</td>\n",
       "      <td>34.06301</td>\n",
       "      <td>POINT (-118.30016 34.06301)</td>\n",
       "    </tr>\n",
       "    <tr>\n",
       "      <th>2</th>\n",
       "      <td>5525004023</td>\n",
       "      <td>18-125504</td>\n",
       "      <td>POINTE ON LA BREA</td>\n",
       "      <td>In-Service</td>\n",
       "      <td>NEW CONSTRUCTION</td>\n",
       "      <td>849 N LA BREA AVE  LOS ANGELES, CA 90038</td>\n",
       "      <td>5</td>\n",
       "      <td>1</td>\n",
       "      <td>MELROSE</td>\n",
       "      <td>50</td>\n",
       "      <td>...</td>\n",
       "      <td>EAH INC</td>\n",
       "      <td>(951) 966-1351</td>\n",
       "      <td>click here (http://hcidapp.lacity.org/mpphotos...</td>\n",
       "      <td>218.0</td>\n",
       "      <td>click here (http://hcidapp.lacity.org/ahtfRepo...</td>\n",
       "      <td>C-139292</td>\n",
       "      <td>2023-12-11T00:00:00.000</td>\n",
       "      <td>-118.34425</td>\n",
       "      <td>34.08646</td>\n",
       "      <td>POINT (-118.34425 34.08646)</td>\n",
       "    </tr>\n",
       "    <tr>\n",
       "      <th>3</th>\n",
       "      <td>5050011005</td>\n",
       "      <td>05-117193</td>\n",
       "      <td>LEEWARD APTS. (SITE 7)</td>\n",
       "      <td>In-Service</td>\n",
       "      <td>REHAB</td>\n",
       "      <td>2809 S WEST BLVD  Los Angeles, CA 90016</td>\n",
       "      <td>10</td>\n",
       "      <td>7</td>\n",
       "      <td>CRENSHAW DISTRICT</td>\n",
       "      <td>0</td>\n",
       "      <td>...</td>\n",
       "      <td>ALPHA PROPERTY MANAGEMENT, INC.</td>\n",
       "      <td>(323) 231-4174</td>\n",
       "      <td>click here (http://hcidapp.lacity.org/mpphotos...</td>\n",
       "      <td>NaN</td>\n",
       "      <td>click here (http://hcidapp.lacity.org/ahtfRepo...</td>\n",
       "      <td>NaN</td>\n",
       "      <td>2023-12-11T00:00:00.000</td>\n",
       "      <td>-118.34182</td>\n",
       "      <td>34.03071</td>\n",
       "      <td>POINT (-118.34182 34.03071)</td>\n",
       "    </tr>\n",
       "    <tr>\n",
       "      <th>4</th>\n",
       "      <td>5114014020</td>\n",
       "      <td>14-121652</td>\n",
       "      <td>FLORENCE MILLS (SITE 5)</td>\n",
       "      <td>In-Service</td>\n",
       "      <td>NEW CONSTRUCTION</td>\n",
       "      <td>1037 E MARTIN LUTHER KING BLVD  LOS ANGELES, C...</td>\n",
       "      <td>9</td>\n",
       "      <td>5</td>\n",
       "      <td>CENTRAL</td>\n",
       "      <td>0</td>\n",
       "      <td>...</td>\n",
       "      <td>BARKER MANAGEMENT INCORPORATED</td>\n",
       "      <td>(714) 533-3450</td>\n",
       "      <td>click here (http://hcidapp.lacity.org/mpphotos...</td>\n",
       "      <td>226.0</td>\n",
       "      <td>click here (http://hcidapp.lacity.org/ahtfRepo...</td>\n",
       "      <td>C-129358</td>\n",
       "      <td>2023-12-11T00:00:00.000</td>\n",
       "      <td>-118.25748</td>\n",
       "      <td>34.01115</td>\n",
       "      <td>POINT (-118.25748 34.01115)</td>\n",
       "    </tr>\n",
       "  </tbody>\n",
       "</table>\n",
       "<p>5 rows × 31 columns</p>\n",
       "</div>"
      ],
      "text/plain": [
       "          APN PROJECT NUMBER                     NAME DEVELOPMENT STAGE  \\\n",
       "0  5143020023      02-118256     SAN LUCAS APARTMENTS        In-Service   \n",
       "1  5502031011      14-121509          WILSHIRE TOWERS        In-Service   \n",
       "2  5525004023      18-125504        POINTE ON LA BREA        In-Service   \n",
       "3  5050011005      05-117193   LEEWARD APTS. (SITE 7)        In-Service   \n",
       "4  5114014020      14-121652  FLORENCE MILLS (SITE 5)        In-Service   \n",
       "\n",
       "     CONSTRUCTION TYPE                                       SITE ADDRESS  \\\n",
       "0     NEW CONSTRUCTION               1221 W 7TH ST  Los Angeles, CA 90017   \n",
       "1  ACQUISITION + REHAB         616 S NORMANDIE AVE  Los Angeles, CA 90005   \n",
       "2     NEW CONSTRUCTION           849 N LA BREA AVE  LOS ANGELES, CA 90038   \n",
       "3                REHAB            2809 S WEST BLVD  Los Angeles, CA 90016   \n",
       "4     NEW CONSTRUCTION  1037 E MARTIN LUTHER KING BLVD  LOS ANGELES, C...   \n",
       "\n",
       "   SITE  COUNCIL DISTRICT  SITE #     SITE COMMUNITY  SITE UNITS  ...  \\\n",
       "0                       1       1           WESTLAKE         196  ...   \n",
       "1                      10       1          KOREATOWN         283  ...   \n",
       "2                       5       1            MELROSE          50  ...   \n",
       "3                      10       7  CRENSHAW DISTRICT           0  ...   \n",
       "4                       9       5            CENTRAL           0  ...   \n",
       "\n",
       "                MANAGEMENT COMPANY   CONTACT PHONE  \\\n",
       "0         GSL PROPERRTY MANAGEMENT             NaN   \n",
       "1       THOMAS SAFRAN & ASSOCIATES  (310) 820-4888   \n",
       "2                          EAH INC  (951) 966-1351   \n",
       "3  ALPHA PROPERTY MANAGEMENT, INC.  (323) 231-4174   \n",
       "4   BARKER MANAGEMENT INCORPORATED  (714) 533-3450   \n",
       "\n",
       "                                               PHOTO   JOBS  \\\n",
       "0  click here (http://hcidapp.lacity.org/mpphotos...    NaN   \n",
       "1  click here (http://hcidapp.lacity.org/mpphotos...    NaN   \n",
       "2  click here (http://hcidapp.lacity.org/mpphotos...  218.0   \n",
       "3  click here (http://hcidapp.lacity.org/mpphotos...    NaN   \n",
       "4  click here (http://hcidapp.lacity.org/mpphotos...  226.0   \n",
       "\n",
       "                                 PROJECT SUMMARY URL  CONTRACT NUMBERS  \\\n",
       "0  click here (http://hcidapp.lacity.org/ahtfRepo...               NaN   \n",
       "1  click here (http://hcidapp.lacity.org/ahtfRepo...               NaN   \n",
       "2  click here (http://hcidapp.lacity.org/ahtfRepo...          C-139292   \n",
       "3  click here (http://hcidapp.lacity.org/ahtfRepo...               NaN   \n",
       "4  click here (http://hcidapp.lacity.org/ahtfRepo...          C-129358   \n",
       "\n",
       "                DATE STAMP  SITE LONGITUDE  SITE LATITUDE  \\\n",
       "0  2023-12-11T00:00:00.000      -118.26681       34.05209   \n",
       "1  2023-12-11T00:00:00.000      -118.30016       34.06301   \n",
       "2  2023-12-11T00:00:00.000      -118.34425       34.08646   \n",
       "3  2023-12-11T00:00:00.000      -118.34182       34.03071   \n",
       "4  2023-12-11T00:00:00.000      -118.25748       34.01115   \n",
       "\n",
       "             GPS_COORDS ON MAP  \n",
       "0  POINT (-118.26681 34.05209)  \n",
       "1  POINT (-118.30016 34.06301)  \n",
       "2  POINT (-118.34425 34.08646)  \n",
       "3  POINT (-118.34182 34.03071)  \n",
       "4  POINT (-118.25748 34.01115)  \n",
       "\n",
       "[5 rows x 31 columns]"
      ]
     },
     "execution_count": 11,
     "metadata": {},
     "output_type": "execute_result"
    }
   ],
   "source": [
    "# what does the data look like? \n",
    "LA_affordable_housing.head()"
   ]
  },
  {
   "cell_type": "code",
   "execution_count": 12,
   "id": "a5163e9c-e3dc-455f-86a0-e900f0b4153a",
   "metadata": {},
   "outputs": [
    {
     "data": {
      "text/plain": [
       "APN                          int64\n",
       "PROJECT NUMBER              object\n",
       "NAME                        object\n",
       "DEVELOPMENT STAGE           object\n",
       "CONSTRUCTION TYPE           object\n",
       "SITE ADDRESS                object\n",
       "SITE  COUNCIL DISTRICT       int64\n",
       "SITE #                       int64\n",
       "SITE COMMUNITY              object\n",
       "SITE UNITS                   int64\n",
       "PROJECT TOTAL UNITS          int64\n",
       "HOUSING TYPE                object\n",
       "SUPPORTIVE HOUSING          object\n",
       "SH UNITS PER SITE            int64\n",
       "DATE FUNDED                 object\n",
       "LAHD FUNDED                float64\n",
       "LEVERAGE                   float64\n",
       "TAX EXEMPT CONDUIT BOND      int64\n",
       "TDC                        float64\n",
       "IN-SERVICE DATE             object\n",
       "DEVELOPER                   object\n",
       "MANAGEMENT COMPANY          object\n",
       "CONTACT PHONE               object\n",
       "PHOTO                       object\n",
       "JOBS                       float64\n",
       "PROJECT SUMMARY URL         object\n",
       "CONTRACT NUMBERS            object\n",
       "DATE STAMP                  object\n",
       "SITE LONGITUDE             float64\n",
       "SITE LATITUDE              float64\n",
       "GPS_COORDS ON MAP           object\n",
       "dtype: object"
      ]
     },
     "execution_count": 12,
     "metadata": {},
     "output_type": "execute_result"
    }
   ],
   "source": [
    "LA_affordable_housing.dtypes"
   ]
  },
  {
   "cell_type": "code",
   "execution_count": 13,
   "id": "0de6278b-681e-479b-9fd7-29f8325e712a",
   "metadata": {},
   "outputs": [
    {
     "name": "stdout",
     "output_type": "stream",
     "text": [
      "<class 'pandas.core.frame.DataFrame'>\n",
      "RangeIndex: 570 entries, 0 to 569\n",
      "Data columns (total 31 columns):\n",
      " #   Column                   Non-Null Count  Dtype  \n",
      "---  ------                   --------------  -----  \n",
      " 0   APN                      570 non-null    int64  \n",
      " 1   PROJECT NUMBER           570 non-null    object \n",
      " 2   NAME                     570 non-null    object \n",
      " 3   DEVELOPMENT STAGE        569 non-null    object \n",
      " 4   CONSTRUCTION TYPE        539 non-null    object \n",
      " 5   SITE ADDRESS             570 non-null    object \n",
      " 6   SITE  COUNCIL DISTRICT   570 non-null    int64  \n",
      " 7   SITE #                   570 non-null    int64  \n",
      " 8   SITE COMMUNITY           563 non-null    object \n",
      " 9   SITE UNITS               570 non-null    int64  \n",
      " 10  PROJECT TOTAL UNITS      570 non-null    int64  \n",
      " 11  HOUSING TYPE             552 non-null    object \n",
      " 12  SUPPORTIVE HOUSING       570 non-null    object \n",
      " 13  SH UNITS PER SITE        570 non-null    int64  \n",
      " 14  DATE FUNDED              568 non-null    object \n",
      " 15  LAHD FUNDED              570 non-null    float64\n",
      " 16  LEVERAGE                 570 non-null    float64\n",
      " 17  TAX EXEMPT CONDUIT BOND  570 non-null    int64  \n",
      " 18  TDC                      570 non-null    float64\n",
      " 19  IN-SERVICE DATE          570 non-null    object \n",
      " 20  DEVELOPER                554 non-null    object \n",
      " 21  MANAGEMENT COMPANY       536 non-null    object \n",
      " 22  CONTACT PHONE            507 non-null    object \n",
      " 23  PHOTO                    570 non-null    object \n",
      " 24  JOBS                     415 non-null    float64\n",
      " 25  PROJECT SUMMARY URL      570 non-null    object \n",
      " 26  CONTRACT NUMBERS         419 non-null    object \n",
      " 27  DATE STAMP               570 non-null    object \n",
      " 28  SITE LONGITUDE           570 non-null    float64\n",
      " 29  SITE LATITUDE            570 non-null    float64\n",
      " 30  GPS_COORDS ON MAP        570 non-null    object \n",
      "dtypes: float64(6), int64(7), object(18)\n",
      "memory usage: 138.2+ KB\n"
     ]
    }
   ],
   "source": [
    "# dataframe info\n",
    "LA_affordable_housing.info()"
   ]
  },
  {
   "cell_type": "code",
   "execution_count": 14,
   "id": "a17f6a56-57e7-476b-a9d6-a302c72c19ce",
   "metadata": {},
   "outputs": [
    {
     "data": {
      "text/plain": [
       "(570, 31)"
      ]
     },
     "execution_count": 14,
     "metadata": {},
     "output_type": "execute_result"
    }
   ],
   "source": [
    "# how many rows and columns?\n",
    "LA_affordable_housing.shape"
   ]
  },
  {
   "cell_type": "code",
   "execution_count": 15,
   "id": "3f1fb7e7-af61-4be7-8b9a-62094965efeb",
   "metadata": {},
   "outputs": [
    {
     "data": {
      "text/plain": [
       "<Axes: >"
      ]
     },
     "execution_count": 15,
     "metadata": {},
     "output_type": "execute_result"
    },
    {
     "data": {
      "image/png": "[encoded data removed]",
      "text/plain": [
       "<Figure size 640x480 with 1 Axes>"
      ]
     },
     "metadata": {},
     "output_type": "display_data"
    }
   ],
   "source": [
    "LA_affordable_housing.plot()"
   ]
  },
  {
   "cell_type": "code",
   "execution_count": 19,
   "id": "6dec2d4e-762d-4d2a-9014-011fc1a50414",
   "metadata": {},
   "outputs": [
    {
     "data": {
      "text/plain": [
       "DEVELOPMENT STAGE\n",
       "In-Service     506\n",
       "Development     63\n",
       "Name: count, dtype: int64"
      ]
     },
     "execution_count": 19,
     "metadata": {},
     "output_type": "execute_result"
    }
   ],
   "source": [
    "#count the values of a variable \n",
    "LA_affordable_housing['DEVELOPMENT STAGE'].value_counts()"
   ]
  },
  {
   "cell_type": "code",
   "execution_count": 22,
   "id": "d4e9ac39-48ee-478d-b5d3-83824168fcc8",
   "metadata": {},
   "outputs": [
    {
     "data": {
      "text/plain": [
       "DEVELOPMENT STAGE\n",
       "In-Service     506\n",
       "Development     63\n",
       "Name: count, dtype: int64"
      ]
     },
     "execution_count": 22,
     "metadata": {},
     "output_type": "execute_result"
    }
   ],
   "source": [
    "# save it as a variable\n",
    "dvlpmt_stage_count = LA_affordable_housing['DEVELOPMENT STAGE'].value_counts()\n",
    "dvlpmt_stage_count"
   ]
  },
  {
   "cell_type": "code",
   "execution_count": 23,
   "id": "68c785ef-10b0-4d25-ad5b-679836a1276a",
   "metadata": {},
   "outputs": [
    {
     "data": {
      "text/plain": [
       "pandas.core.series.Series"
      ]
     },
     "execution_count": 23,
     "metadata": {},
     "output_type": "execute_result"
    }
   ],
   "source": [
    "#type?\n",
    "type(dvlpmt_stage_count)"
   ]
  },
  {
   "cell_type": "code",
   "execution_count": 25,
   "id": "b532f7d3-9ad1-4c1f-ba18-7eca6abfeefa",
   "metadata": {},
   "outputs": [
    {
     "data": {
      "text/html": [
       "<div>\n",
       "<style scoped>\n",
       "    .dataframe tbody tr th:only-of-type {\n",
       "        vertical-align: middle;\n",
       "    }\n",
       "\n",
       "    .dataframe tbody tr th {\n",
       "        vertical-align: top;\n",
       "    }\n",
       "\n",
       "    .dataframe thead th {\n",
       "        text-align: right;\n",
       "    }\n",
       "</style>\n",
       "<table border=\"1\" class=\"dataframe\">\n",
       "  <thead>\n",
       "    <tr style=\"text-align: right;\">\n",
       "      <th></th>\n",
       "      <th>index</th>\n",
       "      <th>DEVELOPMENT STAGE</th>\n",
       "      <th>count</th>\n",
       "    </tr>\n",
       "  </thead>\n",
       "  <tbody>\n",
       "    <tr>\n",
       "      <th>0</th>\n",
       "      <td>0</td>\n",
       "      <td>In-Service</td>\n",
       "      <td>506</td>\n",
       "    </tr>\n",
       "    <tr>\n",
       "      <th>1</th>\n",
       "      <td>1</td>\n",
       "      <td>Development</td>\n",
       "      <td>63</td>\n",
       "    </tr>\n",
       "  </tbody>\n",
       "</table>\n",
       "</div>"
      ],
      "text/plain": [
       "   index DEVELOPMENT STAGE  count\n",
       "0      0        In-Service    506\n",
       "1      1       Development     63"
      ]
     },
     "execution_count": 25,
     "metadata": {},
     "output_type": "execute_result"
    }
   ],
   "source": [
    "# let's convert the series into a dataframe\n",
    "dvlpmt_stage_count = dvlpmt_stage_count.reset_index()\n",
    "dvlpmt_stage_count"
   ]
  },
  {
   "cell_type": "code",
   "execution_count": 26,
   "id": "c07bdb57-a1e5-4e7a-90af-c5ec69f3e0df",
   "metadata": {},
   "outputs": [
    {
     "data": {
      "text/plain": [
       "pandas.core.frame.DataFrame"
      ]
     },
     "execution_count": 26,
     "metadata": {},
     "output_type": "execute_result"
    }
   ],
   "source": [
    "type(dvlpmt_stage_count)"
   ]
  },
  {
   "cell_type": "code",
   "execution_count": null,
   "id": "97446ef7-9b9c-4473-901f-11967c049cb8",
   "metadata": {},
   "outputs": [],
   "source": []
  }
 ],
 "metadata": {
  "kernelspec": {
   "display_name": "Python 3 (ipykernel)",
   "language": "python",
   "name": "python3"
  },
  "language_info": {
   "codemirror_mode": {
    "name": "ipython",
    "version": 3
   },
   "file_extension": ".py",
   "mimetype": "text/x-python",
   "name": "python",
   "nbconvert_exporter": "python",
   "pygments_lexer": "ipython3",
   "version": "3.11.7"
  }
 },
 "nbformat": 4,
 "nbformat_minor": 5
}
