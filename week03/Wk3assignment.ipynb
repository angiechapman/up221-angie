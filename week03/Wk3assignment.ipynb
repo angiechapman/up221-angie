{
 "cells": [
  {
   "cell_type": "code",
   "execution_count": 5,
   "id": "50fd87cd-0e1c-4221-aac6-31750e281e9b",
   "metadata": {},
   "outputs": [
    {
     "data": {
      "text/html": [
       "<div>\n",
       "<style scoped>\n",
       "    .dataframe tbody tr th:only-of-type {\n",
       "        vertical-align: middle;\n",
       "    }\n",
       "\n",
       "    .dataframe tbody tr th {\n",
       "        vertical-align: top;\n",
       "    }\n",
       "\n",
       "    .dataframe thead th {\n",
       "        text-align: right;\n",
       "    }\n",
       "</style>\n",
       "<table border=\"1\" class=\"dataframe\">\n",
       "  <thead>\n",
       "    <tr style=\"text-align: right;\">\n",
       "      <th></th>\n",
       "      <th>OBJECTID</th>\n",
       "      <th>CT20</th>\n",
       "      <th>LABEL</th>\n",
       "      <th>Shape__Area</th>\n",
       "      <th>Shape__Length</th>\n",
       "      <th>geometry</th>\n",
       "    </tr>\n",
       "  </thead>\n",
       "  <tbody>\n",
       "    <tr>\n",
       "      <th>0</th>\n",
       "      <td>1</td>\n",
       "      <td>101110</td>\n",
       "      <td>1011.10</td>\n",
       "      <td>1.676519e+06</td>\n",
       "      <td>5565.411341</td>\n",
       "      <td>POLYGON ((-118.29793 34.26323, -118.29697 34.2...</td>\n",
       "    </tr>\n",
       "    <tr>\n",
       "      <th>1</th>\n",
       "      <td>2</td>\n",
       "      <td>101122</td>\n",
       "      <td>1011.22</td>\n",
       "      <td>3.881001e+06</td>\n",
       "      <td>11695.304277</td>\n",
       "      <td>POLYGON ((-118.27743 34.25991, -118.27747 34.2...</td>\n",
       "    </tr>\n",
       "    <tr>\n",
       "      <th>2</th>\n",
       "      <td>3</td>\n",
       "      <td>101220</td>\n",
       "      <td>1012.20</td>\n",
       "      <td>1.025452e+06</td>\n",
       "      <td>4688.607147</td>\n",
       "      <td>POLYGON ((-118.27818 34.25577, -118.27824 34.2...</td>\n",
       "    </tr>\n",
       "    <tr>\n",
       "      <th>3</th>\n",
       "      <td>4</td>\n",
       "      <td>101221</td>\n",
       "      <td>1012.21</td>\n",
       "      <td>5.197057e+05</td>\n",
       "      <td>3378.824327</td>\n",
       "      <td>POLYGON ((-118.28735 34.25591, -118.28735 34.2...</td>\n",
       "    </tr>\n",
       "    <tr>\n",
       "      <th>4</th>\n",
       "      <td>5</td>\n",
       "      <td>101222</td>\n",
       "      <td>1012.22</td>\n",
       "      <td>4.350619e+05</td>\n",
       "      <td>3685.233312</td>\n",
       "      <td>POLYGON ((-118.28594 34.25590, -118.28594 34.2...</td>\n",
       "    </tr>\n",
       "  </tbody>\n",
       "</table>\n",
       "</div>"
      ],
      "text/plain": [
       "   OBJECTID    CT20    LABEL   Shape__Area  Shape__Length  \\\n",
       "0         1  101110  1011.10  1.676519e+06    5565.411341   \n",
       "1         2  101122  1011.22  3.881001e+06   11695.304277   \n",
       "2         3  101220  1012.20  1.025452e+06    4688.607147   \n",
       "3         4  101221  1012.21  5.197057e+05    3378.824327   \n",
       "4         5  101222  1012.22  4.350619e+05    3685.233312   \n",
       "\n",
       "                                            geometry  \n",
       "0  POLYGON ((-118.29793 34.26323, -118.29697 34.2...  \n",
       "1  POLYGON ((-118.27743 34.25991, -118.27747 34.2...  \n",
       "2  POLYGON ((-118.27818 34.25577, -118.27824 34.2...  \n",
       "3  POLYGON ((-118.28735 34.25591, -118.28735 34.2...  \n",
       "4  POLYGON ((-118.28594 34.25590, -118.28594 34.2...  "
      ]
     },
     "execution_count": 5,
     "metadata": {},
     "output_type": "execute_result"
    }
   ],
   "source": [
    "import geopandas as gpd\n",
    "tracts=gpd.read_file('data/LA20Census.geojson')\n",
    "tracts.head()"
   ]
  },
  {
   "cell_type": "code",
   "execution_count": null,
   "id": "ebe5eff4-98ef-4c34-93d9-28431f99b3ce",
   "metadata": {},
   "outputs": [],
   "source": []
  }
 ],
 "metadata": {
  "kernelspec": {
   "display_name": "Python 3 (ipykernel)",
   "language": "python",
   "name": "python3"
  },
  "language_info": {
   "codemirror_mode": {
    "name": "ipython",
    "version": 3
   },
   "file_extension": ".py",
   "mimetype": "text/x-python",
   "name": "python",
   "nbconvert_exporter": "python",
   "pygments_lexer": "ipython3",
   "version": "3.11.7"
  }
 },
 "nbformat": 4,
 "nbformat_minor": 5
}
